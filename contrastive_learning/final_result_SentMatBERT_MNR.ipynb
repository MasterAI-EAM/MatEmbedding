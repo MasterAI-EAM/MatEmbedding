{
 "cells": [
  {
   "cell_type": "code",
   "execution_count": 1,
   "id": "df20f17d-4596-4050-9677-83e8b52db843",
   "metadata": {},
   "outputs": [],
   "source": [
    "import json\n",
    "import random\n",
    "import numpy as np\n",
    "from tqdm import tqdm\n",
    "from scipy import stats\n",
    "from scipy.spatial.distance import cosine\n",
    "from sentence_transformers import SentenceTransformer"
   ]
  },
  {
   "cell_type": "code",
   "execution_count": 2,
   "id": "979439ab-9691-4486-802e-f80f85070fe1",
   "metadata": {},
   "outputs": [],
   "source": [
    "## context sentences\n",
    "\n",
    "with open('data/zt_ori_84.txt', 'r') as f:\n",
    "    lines = f.readlines()\n",
    "    names = [line.strip().split('\\t')[0] for line in lines]\n",
    "    zt_scores = [line.strip().split('\\t')[-1] for line in lines]\n",
    "\n",
    "with open('data/thermo_sens.json','r') as f1:\n",
    "    string = f1.read()\n",
    "    thermo_sents = json.loads(string)\n",
    "    \n",
    "with open('data/mat_sens.json','r', encoding='utf-8') as f2:\n",
    "    string = f2.read()\n",
    "    dictionary = json.loads(string)   # a dictionary of dictionaries\n",
    "    \n",
    "dict_84 = {}\n",
    "for d in dictionary.values():\n",
    "    if 'if_84' in d.keys():\n",
    "        if 'sens' in d.keys():\n",
    "            dict_84[d['ori']] = d['sens']\n",
    "        else:\n",
    "            dict_84[d['ori']] = d['ori']\n",
    "# mat_without_sents = [key for key,value in dict_84.items() if key == value]\n",
    "# mat_over_100 = [key for key,value in dict_84.items() if len(value) > 100]\n",
    "# print(len(mat_without_sents), len(mat_over_100))\n",
    "for key,value in dict_84.items():\n",
    "    if len(value) > 100:\n",
    "        dict_84[key] = random.sample(value, 100)\n",
    "        # random.sample(population, k) chooses k unique random elements from a population sequence or set, returns a new list of sampled elements\n",
    "\n",
    "# print(list(dict_84.keys()) == names)\n",
    "# print(dict_84)"
   ]
  },
  {
   "cell_type": "code",
   "execution_count": 3,
   "id": "b6ee39a9-3ddd-45a2-9324-4edf10a39ad2",
   "metadata": {},
   "outputs": [],
   "source": [
    "## embeddings and spearman correlation\n",
    "\n",
    "def context_average(model):\n",
    "\n",
    "    center_embedding = np.mean(model.encode(thermo_sents), axis=0)\n",
    "    \n",
    "    cos_sims = []\n",
    "    for name in tqdm(names):\n",
    "        if type(dict_84[name]) == list:\n",
    "            encoded = model.encode(dict_84[name])\n",
    "            embedding = np.mean(encoded, axis=0)\n",
    "        else:\n",
    "            embedding = model.encode(dict_84[name])\n",
    "        cos_sim = 1-cosine(center_embedding, embedding)\n",
    "        cos_sims.append(cos_sim)\n",
    "\n",
    "    corr, pvalue = stats.spearmanr(cos_sims, zt_scores)\n",
    "    return corr"
   ]
  },
  {
   "cell_type": "code",
   "execution_count": null,
   "id": "9d71673b-a087-4b52-87c4-83e5ec9a89ea",
   "metadata": {},
   "outputs": [],
   "source": [
    "path = 'outputs/SentMatBERT_MNR'\n",
    "SentMatBERT_MNR = SentenceTransformer(path)\n",
    "print(context_average(SentMatBERT_MNR))   \n",
    "# best result: 0.5923 with CPU, 0.5919 with GPU (first run in Vega)"
   ]
  }
 ],
 "metadata": {
  "kernelspec": {
   "display_name": "Python 3 (ipykernel)",
   "language": "python",
   "name": "python3"
  },
  "language_info": {
   "codemirror_mode": {
    "name": "ipython",
    "version": 3
   },
   "file_extension": ".py",
   "mimetype": "text/x-python",
   "name": "python",
   "nbconvert_exporter": "python",
   "pygments_lexer": "ipython3",
   "version": "3.9.18"
  }
 },
 "nbformat": 4,
 "nbformat_minor": 5
}
