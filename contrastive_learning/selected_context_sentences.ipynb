{
 "cells": [
  {
   "cell_type": "markdown",
   "id": "420b1168-c9ec-4b9e-8168-f66ccc1fa987",
   "metadata": {},
   "source": [
    "# selected context sentences"
   ]
  },
  {
   "cell_type": "code",
   "execution_count": 1,
   "id": "5af6c25f-628a-402e-84ee-05918e49f93c",
   "metadata": {},
   "outputs": [],
   "source": [
    "from sentence_transformers import SentenceTransformer\n",
    "from scipy.spatial.distance import cosine\n",
    "from scipy import stats\n",
    "from tqdm import tqdm\n",
    "import matplotlib.pyplot as plt\n",
    "import numpy as np\n",
    "import json, random"
   ]
  },
  {
   "cell_type": "code",
   "execution_count": null,
   "id": "2c1dc3fd-ac4e-40c9-a0a3-b0e7307056f1",
   "metadata": {},
   "outputs": [],
   "source": [
    "## load context sentences dataset into dictionary\n",
    "model = SentenceTransformer('outputs/SentMatBERT_MNR')\n",
    "with open('data/zt_ori_84.txt', 'r') as f:\n",
    "    lines = f.readlines()\n",
    "    names = [line.strip().split('\\t')[0] for line in lines]\n",
    "    zt_scores = [line.strip().split('\\t')[-1] for line in lines]\n",
    "with open('data/thermo_sens.json','r') as f1:\n",
    "    string = f1.read()\n",
    "    thermo_sents = json.loads(string)   # 200 thermoelectric context sentences\n",
    "with open('data/mat_sens.json','r', encoding='utf-8') as f2:\n",
    "    string = f2.read()\n",
    "    dictionary = json.loads(string)   # a dictionary of dictionaries\n",
    "dict_84 = {}\n",
    "for d in dictionary.values():\n",
    "    if 'if_84' in d.keys():\n",
    "        if 'sens' in d.keys():\n",
    "            dict_84[d['ori']] = d['sens']\n",
    "        else:\n",
    "            dict_84[d['ori']] = d['ori']\n",
    "\n",
    "## sample context sentences over limit (100 or 200)\n",
    "# mat_without_sents = [key for key,value in dict_84.items() if key == value]   # 8 materials without sentences\n",
    "mat_over_limit = [key for key,value in dict_84.items() if len(value) > 200]   # 26/24/23 materials have more than 100/150/200 sentences\n",
    "# print(len(mat_over_limit))\n",
    "for key,value in dict_84.items():\n",
    "    if type(value) == list and len(value) > 200:\n",
    "        dict_84[key] = random.sample(value, 200)\n",
    "dict_84['thermoelectric'] = thermo_sents\n",
    "\n",
    "def select_context_sentences(num):\n",
    "    '''select certain number of context sentences according to their similarities with material names \n",
    "       :num param: the number of context sentences to be selected for each material and the center word'''\n",
    "    selected_sents = {}\n",
    "    for key,value in dict_84.items():\n",
    "        if type(value) == list and len(value) >= num:\n",
    "            name_embedding = model.encode(key)\n",
    "            sent_embeddings = model.encode(value)\n",
    "            cos_sims = [1-cosine(sent_embedding,name_embedding) for sent_embedding in sent_embeddings]\n",
    "            # select one most similar context sentence for each material: 0.26545034834536724\n",
    "            # idx = cos_sims.index(max(cos_sims))   # list.index(item) returns the index of the item's first occurrence\n",
    "            # selected_sent[key] = value[idx]\n",
    "            selected_sents[key] = [sent for num,sent in sorted(list(zip(cos_sims,value)), reverse=True)][0:num]   # slicing\n",
    "        else:\n",
    "            selected_sents[key] = value     \n",
    "    return selected_sents   # note the indentation of \"return\", usually 4 dents from \"def\"\n",
    "# print(selected_sents['Cu2Se'])\n",
    "# print(selected_sents['thermoelectric'])\n",
    "\n",
    "def context_average(selected_sents):\n",
    "    '''calculate spearman correlation for selected context sentences'''\n",
    "    center_embedding = np.mean(model.encode(selected_sents['thermoelectric']), axis=0)\n",
    "    cos_sims = []\n",
    "    for name in names:\n",
    "        if type(selected_sents[name]) == list:\n",
    "            encoded = model.encode(selected_sents[name])\n",
    "            embedding = np.mean(encoded, axis=0)\n",
    "        else:\n",
    "            embedding = model.encode(selected_sents[name])\n",
    "        cos_sim = 1-cosine(center_embedding, embedding)\n",
    "        cos_sims.append(cos_sim)\n",
    "    corr, pvalue = stats.spearmanr(cos_sims, zt_scores)\n",
    "    return corr\n",
    "\n",
    "def method1(nums):\n",
    "    '''try out different context sentence number settings, returns the best num and the best corr as a tuple\n",
    "       :nums param: a list of numbers to iterate over'''\n",
    "    correlations = []\n",
    "    for num in tqdm(nums):\n",
    "        sents = select_context_sentences(num)\n",
    "        corr = context_average(sents)\n",
    "        correlations.append(corr)\n",
    "    print(list(zip(nums, correlations)))   # num_corr_tuples\n",
    "    plt.scatter(nums, correlations)\n",
    "    plt.xlabel('num of selected context sents')\n",
    "    plt.ylabel('spearman correlation')\n",
    "    plt.show()\n",
    "    idx = correlations.index(np.max(correlations))\n",
    "    return (nums[idx], correlations[idx])"
   ]
  },
  {
   "cell_type": "code",
   "execution_count": 4,
   "id": "a5f677f9-c39d-43c9-b4cd-dbb5b608bd2c",
   "metadata": {},
   "outputs": [
    {
     "data": {
      "text/plain": [
       "<matplotlib.collections.PathCollection at 0x269057ff640>"
      ]
     },
     "execution_count": 4,
     "metadata": {},
     "output_type": "execute_result"
    },
    {
     "data": {
      "image/png": "[encoded data removed]",
      "text/plain": [
       "<Figure size 640x480 with 1 Axes>"
      ]
     },
     "metadata": {},
     "output_type": "display_data"
    }
   ],
   "source": [
    "# nums = list(range(1,100,5))   # best num 96, best corr 0.5631 (num_corr_scatter_1.png)\n",
    "nums = [1] + list(range(10,201,10))   # best num 200, best corr 0.5785 (num_corr_scatter_2.png)\n",
    "# best_num, best_corr = method1(nums)\n",
    "\n",
    "num_corr_tuples = [(1, 0.2629), (10, 0.3973), (20, 0.4471), (30, 0.4525), (40, 0.4753), (50, 0.4697), (60, 0.4827), (70, 0.4923), (80, 0.4952), \n",
    "                   (90, 0.5003), (100, 0.5135), (110, 0.5144), (120, 0.5263), (130, 0.5356), (140, 0.5407), (150, 0.5528), (160, 0.5536), \n",
    "                   (170, 0.5635), (180, 0.5688), (190, 0.5663), (200, 0.5785)]\n",
    "corrs = [corr for num,corr in num_corr_tuples]\n",
    "plt.scatter(nums, corrs)"
   ]
  },
  {
   "cell_type": "code",
   "execution_count": null,
   "id": "9dad1683-620b-46e2-8dfb-ffdab724d348",
   "metadata": {},
   "outputs": [],
   "source": [
    "## sampling context sentences causes the undulation of results (above 0.57, maximum 0.5924)\n",
    "## main conclusion of this script: more context sentences leads to better result"
   ]
  }
 ],
 "metadata": {
  "kernelspec": {
   "display_name": "Python 3 (ipykernel)",
   "language": "python",
   "name": "python3"
  },
  "language_info": {
   "codemirror_mode": {
    "name": "ipython",
    "version": 3
   },
   "file_extension": ".py",
   "mimetype": "text/x-python",
   "name": "python",
   "nbconvert_exporter": "python",
   "pygments_lexer": "ipython3",
   "version": "3.9.18"
  }
 },
 "nbformat": 4,
 "nbformat_minor": 5
}
